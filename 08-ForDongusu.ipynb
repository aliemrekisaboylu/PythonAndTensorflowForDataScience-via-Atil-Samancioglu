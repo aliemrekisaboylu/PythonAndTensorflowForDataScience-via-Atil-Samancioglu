{
 "cells": [
  {
   "cell_type": "code",
   "execution_count": 2,
   "id": "5de792cf",
   "metadata": {},
   "outputs": [],
   "source": [
    "benimListem = [10,20,30,40,50]"
   ]
  },
  {
   "cell_type": "code",
   "execution_count": 3,
   "id": "b9899ec8",
   "metadata": {
    "scrolled": true
   },
   "outputs": [
    {
     "name": "stdout",
     "output_type": "stream",
     "text": [
      "evet içerisinde mevcut\n"
     ]
    }
   ],
   "source": [
    "if 10 in benimListem:\n",
    "    print(\"evet içerisinde mevcut\")"
   ]
  },
  {
   "cell_type": "code",
   "execution_count": 4,
   "id": "1121fe7a",
   "metadata": {},
   "outputs": [
    {
     "data": {
      "text/plain": [
       "16.666666666666668"
      ]
     },
     "execution_count": 4,
     "metadata": {},
     "output_type": "execute_result"
    }
   ],
   "source": [
    "benimListem[0] * 5 / 3"
   ]
  },
  {
   "cell_type": "code",
   "execution_count": 5,
   "id": "c7abdcfe",
   "metadata": {},
   "outputs": [
    {
     "data": {
      "text/plain": [
       "33.333333333333336"
      ]
     },
     "execution_count": 5,
     "metadata": {},
     "output_type": "execute_result"
    }
   ],
   "source": [
    "benimListem[1] * 5 / 3"
   ]
  },
  {
   "cell_type": "code",
   "execution_count": 8,
   "id": "27b2d9d2",
   "metadata": {},
   "outputs": [
    {
     "name": "stdout",
     "output_type": "stream",
     "text": [
      "döngü başladı\n",
      "16.666666666666668\n",
      "33.333333333333336\n",
      "50.0\n",
      "66.66666666666667\n",
      "83.33333333333333\n",
      "döngü bitti\n"
     ]
    }
   ],
   "source": [
    "print(\"döngü başladı\")\n",
    "for numara in benimListem:\n",
    "    print(numara * 5 / 3)\n",
    "print(\"döngü bitti\")"
   ]
  },
  {
   "cell_type": "code",
   "execution_count": 12,
   "id": "3b86212b",
   "metadata": {},
   "outputs": [
    {
     "name": "stdout",
     "output_type": "stream",
     "text": [
      "16.666666666666668\n",
      "33.333333333333336\n",
      "50.0\n",
      "66.66666666666667\n",
      "83.33333333333333\n"
     ]
    }
   ],
   "source": [
    "for num in benimListem:\n",
    "    yeniNumara = num * 5 / 3\n",
    "    print(yeniNumara)"
   ]
  },
  {
   "cell_type": "code",
   "execution_count": 13,
   "id": "17888517",
   "metadata": {},
   "outputs": [],
   "source": [
    "yeniListe = [1,2,3,4,5,6]"
   ]
  },
  {
   "cell_type": "code",
   "execution_count": 21,
   "id": "190e69a9",
   "metadata": {},
   "outputs": [
    {
     "name": "stdout",
     "output_type": "stream",
     "text": [
      "1 çift sayı değildir.\n",
      "2 çift sayıdır.\n",
      "3 çift sayı değildir.\n",
      "4 çift sayıdır.\n",
      "5 çift sayı değildir.\n",
      "6 çift sayıdır.\n"
     ]
    }
   ],
   "source": [
    "for rakam in yeniListe:\n",
    "    if rakam % 2 == 0:\n",
    "        print(str(rakam)+ \" \" + \"çift sayıdır.\")\n",
    "    else:\n",
    "        print(str(rakam)+ \" \" + \"çift sayı değildir.\")"
   ]
  },
  {
   "cell_type": "code",
   "execution_count": 22,
   "id": "eb2e40cb",
   "metadata": {},
   "outputs": [],
   "source": [
    "yeniString = \"Ali Emre Kısaboylu\""
   ]
  },
  {
   "cell_type": "code",
   "execution_count": 23,
   "id": "2b0b1110",
   "metadata": {},
   "outputs": [
    {
     "name": "stdout",
     "output_type": "stream",
     "text": [
      "A\n",
      "l\n",
      "i\n",
      " \n",
      "E\n",
      "m\n",
      "r\n",
      "e\n",
      " \n",
      "K\n",
      "ı\n",
      "s\n",
      "a\n",
      "b\n",
      "o\n",
      "y\n",
      "l\n",
      "u\n"
     ]
    }
   ],
   "source": [
    "for harf in yeniString:\n",
    "    print(harf)"
   ]
  },
  {
   "cell_type": "code",
   "execution_count": 24,
   "id": "80edf510",
   "metadata": {},
   "outputs": [],
   "source": [
    "benimTuple = (1,2,3,4,5)"
   ]
  },
  {
   "cell_type": "code",
   "execution_count": 25,
   "id": "879ffa84",
   "metadata": {},
   "outputs": [
    {
     "name": "stdout",
     "output_type": "stream",
     "text": [
      "1\n",
      "2\n",
      "3\n",
      "4\n",
      "5\n"
     ]
    }
   ],
   "source": [
    "for eleman in benimTuple:\n",
    "    print(eleman)"
   ]
  },
  {
   "cell_type": "code",
   "execution_count": 26,
   "id": "a0814743",
   "metadata": {},
   "outputs": [],
   "source": [
    "koordinatListesi = [(10.2,15.2),(32.4,16.2),(40.2,20.2)]"
   ]
  },
  {
   "cell_type": "code",
   "execution_count": 27,
   "id": "f6b7c12a",
   "metadata": {},
   "outputs": [
    {
     "data": {
      "text/plain": [
       "tuple"
      ]
     },
     "execution_count": 27,
     "metadata": {},
     "output_type": "execute_result"
    }
   ],
   "source": [
    "type(koordinatListesi[0])"
   ]
  },
  {
   "cell_type": "code",
   "execution_count": 28,
   "id": "10a5215e",
   "metadata": {},
   "outputs": [
    {
     "name": "stdout",
     "output_type": "stream",
     "text": [
      "(10.2, 15.2)\n",
      "(32.4, 16.2)\n",
      "(40.2, 20.2)\n"
     ]
    }
   ],
   "source": [
    "for eleman in koordinatListesi:\n",
    "    print(eleman)"
   ]
  },
  {
   "cell_type": "code",
   "execution_count": 29,
   "id": "f2960493",
   "metadata": {},
   "outputs": [
    {
     "name": "stdout",
     "output_type": "stream",
     "text": [
      "10.2\n",
      "32.4\n",
      "40.2\n"
     ]
    }
   ],
   "source": [
    "for (x,y) in koordinatListesi:\n",
    "    print(x)"
   ]
  },
  {
   "cell_type": "code",
   "execution_count": 30,
   "id": "fea8afdb",
   "metadata": {},
   "outputs": [],
   "source": [
    "benimGaripListem = [(1,2,3),(4,5,6),(7,8,9)]"
   ]
  },
  {
   "cell_type": "code",
   "execution_count": 31,
   "id": "db66c4e7",
   "metadata": {},
   "outputs": [
    {
     "name": "stdout",
     "output_type": "stream",
     "text": [
      "3\n",
      "6\n",
      "9\n"
     ]
    }
   ],
   "source": [
    "for (x,y,z) in benimGaripListem:\n",
    "    print(z)"
   ]
  },
  {
   "cell_type": "code",
   "execution_count": 32,
   "id": "27b61406",
   "metadata": {},
   "outputs": [],
   "source": [
    "benimSozluk = {\"muz\" : 150,\"portakal\" : 250,\"elma\" : 400}"
   ]
  },
  {
   "cell_type": "code",
   "execution_count": 36,
   "id": "1ff35bb5",
   "metadata": {},
   "outputs": [
    {
     "name": "stdout",
     "output_type": "stream",
     "text": [
      "muz\n",
      "portakal\n",
      "elma\n"
     ]
    }
   ],
   "source": [
    "for (anahtar,deger) in benimSozluk.items():\n",
    "    print(anahtar)"
   ]
  },
  {
   "cell_type": "code",
   "execution_count": null,
   "id": "3b66e032",
   "metadata": {},
   "outputs": [],
   "source": []
  }
 ],
 "metadata": {
  "kernelspec": {
   "display_name": "Python 3 (ipykernel)",
   "language": "python",
   "name": "python3"
  },
  "language_info": {
   "codemirror_mode": {
    "name": "ipython",
    "version": 3
   },
   "file_extension": ".py",
   "mimetype": "text/x-python",
   "name": "python",
   "nbconvert_exporter": "python",
   "pygments_lexer": "ipython3",
   "version": "3.9.7"
  }
 },
 "nbformat": 4,
 "nbformat_minor": 5
}
