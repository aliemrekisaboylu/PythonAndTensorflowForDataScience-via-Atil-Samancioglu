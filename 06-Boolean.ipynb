{
 "cells": [
  {
   "cell_type": "code",
   "execution_count": 1,
   "id": "fd9d216b",
   "metadata": {},
   "outputs": [],
   "source": [
    "benimBoolean = True"
   ]
  },
  {
   "cell_type": "code",
   "execution_count": 2,
   "id": "de6a3f77",
   "metadata": {},
   "outputs": [
    {
     "data": {
      "text/plain": [
       "True"
      ]
     },
     "execution_count": 2,
     "metadata": {},
     "output_type": "execute_result"
    }
   ],
   "source": [
    "benimBoolean"
   ]
  },
  {
   "cell_type": "code",
   "execution_count": 3,
   "id": "8ba572c9",
   "metadata": {},
   "outputs": [
    {
     "data": {
      "text/plain": [
       "bool"
      ]
     },
     "execution_count": 3,
     "metadata": {},
     "output_type": "execute_result"
    }
   ],
   "source": [
    "type(benimBoolean)"
   ]
  },
  {
   "cell_type": "code",
   "execution_count": 4,
   "id": "a7969d5a",
   "metadata": {},
   "outputs": [],
   "source": [
    "benimBoolean = False"
   ]
  },
  {
   "cell_type": "code",
   "execution_count": 5,
   "id": "d9aafa0d",
   "metadata": {},
   "outputs": [
    {
     "data": {
      "text/plain": [
       "True"
      ]
     },
     "execution_count": 5,
     "metadata": {},
     "output_type": "execute_result"
    }
   ],
   "source": [
    "10 > 5"
   ]
  },
  {
   "cell_type": "code",
   "execution_count": 6,
   "id": "6c05097f",
   "metadata": {},
   "outputs": [
    {
     "data": {
      "text/plain": [
       "False"
      ]
     },
     "execution_count": 6,
     "metadata": {},
     "output_type": "execute_result"
    }
   ],
   "source": [
    "10 < 5"
   ]
  },
  {
   "cell_type": "code",
   "execution_count": 7,
   "id": "fcd0ab01",
   "metadata": {},
   "outputs": [],
   "source": [
    "listem = [5000,10000,3000,1000,2000,4000]"
   ]
  },
  {
   "cell_type": "code",
   "execution_count": 8,
   "id": "5eed8820",
   "metadata": {},
   "outputs": [
    {
     "data": {
      "text/plain": [
       "6"
      ]
     },
     "execution_count": 8,
     "metadata": {},
     "output_type": "execute_result"
    }
   ],
   "source": [
    "len(listem)"
   ]
  },
  {
   "cell_type": "code",
   "execution_count": 9,
   "id": "4938b04f",
   "metadata": {},
   "outputs": [
    {
     "data": {
      "text/plain": [
       "25000"
      ]
     },
     "execution_count": 9,
     "metadata": {},
     "output_type": "execute_result"
    }
   ],
   "source": [
    "sum(listem)"
   ]
  },
  {
   "cell_type": "code",
   "execution_count": 10,
   "id": "9ce86c05",
   "metadata": {},
   "outputs": [],
   "source": [
    "ortalama = sum(listem) / len(listem)"
   ]
  },
  {
   "cell_type": "code",
   "execution_count": 11,
   "id": "4dbc6bc7",
   "metadata": {},
   "outputs": [
    {
     "data": {
      "text/plain": [
       "4166.666666666667"
      ]
     },
     "execution_count": 11,
     "metadata": {},
     "output_type": "execute_result"
    }
   ],
   "source": [
    "ortalama"
   ]
  },
  {
   "cell_type": "code",
   "execution_count": 12,
   "id": "12cbc82c",
   "metadata": {},
   "outputs": [
    {
     "data": {
      "text/plain": [
       "False"
      ]
     },
     "execution_count": 12,
     "metadata": {},
     "output_type": "execute_result"
    }
   ],
   "source": [
    "listem[3] > ortalama"
   ]
  },
  {
   "cell_type": "code",
   "execution_count": 13,
   "id": "2da0e56f",
   "metadata": {},
   "outputs": [
    {
     "name": "stdout",
     "output_type": "stream",
     "text": [
      "maaş bilgisini giriniz: 6000\n"
     ]
    }
   ],
   "source": [
    "kullaniciMaas = input(\"maaş bilgisini giriniz: \")"
   ]
  },
  {
   "cell_type": "code",
   "execution_count": 14,
   "id": "26ec39c6",
   "metadata": {},
   "outputs": [],
   "source": [
    "kullanıcıMaasInt = int(kullaniciMaas)"
   ]
  },
  {
   "cell_type": "code",
   "execution_count": 15,
   "id": "1ab32a2e",
   "metadata": {},
   "outputs": [
    {
     "data": {
      "text/plain": [
       "True"
      ]
     },
     "execution_count": 15,
     "metadata": {},
     "output_type": "execute_result"
    }
   ],
   "source": [
    "kullanıcıMaasInt > ortalama"
   ]
  },
  {
   "cell_type": "code",
   "execution_count": 16,
   "id": "42ce07bc",
   "metadata": {},
   "outputs": [],
   "source": [
    "x = 10\n",
    "y = 8"
   ]
  },
  {
   "cell_type": "code",
   "execution_count": 17,
   "id": "0e565ba8",
   "metadata": {},
   "outputs": [
    {
     "data": {
      "text/plain": [
       "True"
      ]
     },
     "execution_count": 17,
     "metadata": {},
     "output_type": "execute_result"
    }
   ],
   "source": [
    "x>y"
   ]
  },
  {
   "cell_type": "code",
   "execution_count": 18,
   "id": "9866ed81",
   "metadata": {},
   "outputs": [
    {
     "data": {
      "text/plain": [
       "False"
      ]
     },
     "execution_count": 18,
     "metadata": {},
     "output_type": "execute_result"
    }
   ],
   "source": [
    "x < y"
   ]
  },
  {
   "cell_type": "code",
   "execution_count": 19,
   "id": "af42dc15",
   "metadata": {},
   "outputs": [
    {
     "data": {
      "text/plain": [
       "True"
      ]
     },
     "execution_count": 19,
     "metadata": {},
     "output_type": "execute_result"
    }
   ],
   "source": [
    "x >= y"
   ]
  },
  {
   "cell_type": "code",
   "execution_count": 21,
   "id": "7239dabc",
   "metadata": {},
   "outputs": [
    {
     "data": {
      "text/plain": [
       "False"
      ]
     },
     "execution_count": 21,
     "metadata": {},
     "output_type": "execute_result"
    }
   ],
   "source": [
    "x <= y"
   ]
  },
  {
   "cell_type": "code",
   "execution_count": 22,
   "id": "f1406af4",
   "metadata": {},
   "outputs": [
    {
     "data": {
      "text/plain": [
       "False"
      ]
     },
     "execution_count": 22,
     "metadata": {},
     "output_type": "execute_result"
    }
   ],
   "source": [
    "x == y"
   ]
  },
  {
   "cell_type": "code",
   "execution_count": 23,
   "id": "dec18317",
   "metadata": {},
   "outputs": [
    {
     "data": {
      "text/plain": [
       "True"
      ]
     },
     "execution_count": 23,
     "metadata": {},
     "output_type": "execute_result"
    }
   ],
   "source": [
    "x != y"
   ]
  },
  {
   "cell_type": "code",
   "execution_count": 24,
   "id": "108fdbfc",
   "metadata": {},
   "outputs": [
    {
     "data": {
      "text/plain": [
       "True"
      ]
     },
     "execution_count": 24,
     "metadata": {},
     "output_type": "execute_result"
    }
   ],
   "source": [
    "3 > 1 and 3 > 2 "
   ]
  },
  {
   "cell_type": "code",
   "execution_count": 25,
   "id": "e062c2e9",
   "metadata": {},
   "outputs": [
    {
     "data": {
      "text/plain": [
       "False"
      ]
     },
     "execution_count": 25,
     "metadata": {},
     "output_type": "execute_result"
    }
   ],
   "source": [
    "1 > 3 and 3 > 2 "
   ]
  },
  {
   "cell_type": "code",
   "execution_count": 26,
   "id": "0d259f34",
   "metadata": {},
   "outputs": [
    {
     "data": {
      "text/plain": [
       "True"
      ]
     },
     "execution_count": 26,
     "metadata": {},
     "output_type": "execute_result"
    }
   ],
   "source": [
    "1 > 3 or 3 > 2 "
   ]
  },
  {
   "cell_type": "code",
   "execution_count": 27,
   "id": "d0bfaf23",
   "metadata": {},
   "outputs": [
    {
     "data": {
      "text/plain": [
       "False"
      ]
     },
     "execution_count": 27,
     "metadata": {},
     "output_type": "execute_result"
    }
   ],
   "source": [
    "not 5 == 5"
   ]
  },
  {
   "cell_type": "code",
   "execution_count": 28,
   "id": "a1b74baf",
   "metadata": {},
   "outputs": [
    {
     "data": {
      "text/plain": [
       "True"
      ]
     },
     "execution_count": 28,
     "metadata": {},
     "output_type": "execute_result"
    }
   ],
   "source": [
    "not 5 == 4 "
   ]
  },
  {
   "cell_type": "code",
   "execution_count": null,
   "id": "f881ce02",
   "metadata": {},
   "outputs": [],
   "source": []
  }
 ],
 "metadata": {
  "kernelspec": {
   "display_name": "Python 3 (ipykernel)",
   "language": "python",
   "name": "python3"
  },
  "language_info": {
   "codemirror_mode": {
    "name": "ipython",
    "version": 3
   },
   "file_extension": ".py",
   "mimetype": "text/x-python",
   "name": "python",
   "nbconvert_exporter": "python",
   "pygments_lexer": "ipython3",
   "version": "3.9.7"
  }
 },
 "nbformat": 4,
 "nbformat_minor": 5
}
