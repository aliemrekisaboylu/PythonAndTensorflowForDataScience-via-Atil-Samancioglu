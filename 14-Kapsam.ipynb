{
 "cells": [
  {
   "cell_type": "markdown",
   "id": "3d98a94c",
   "metadata": {},
   "source": [
    "## scope"
   ]
  },
  {
   "cell_type": "code",
   "execution_count": 2,
   "id": "a33df5d2",
   "metadata": {},
   "outputs": [],
   "source": [
    "numara = 20\n",
    "\n",
    "def carpma(rakam):\n",
    "    numara = 10\n",
    "    return numara * rakam"
   ]
  },
  {
   "cell_type": "code",
   "execution_count": 3,
   "id": "197c1126",
   "metadata": {},
   "outputs": [
    {
     "data": {
      "text/plain": [
       "50"
      ]
     },
     "execution_count": 3,
     "metadata": {},
     "output_type": "execute_result"
    }
   ],
   "source": [
    "carpma(5)"
   ]
  },
  {
   "cell_type": "code",
   "execution_count": 4,
   "id": "e154fcd6",
   "metadata": {},
   "outputs": [
    {
     "name": "stdout",
     "output_type": "stream",
     "text": [
      "20\n"
     ]
    }
   ],
   "source": [
    "print(numara)"
   ]
  },
  {
   "cell_type": "markdown",
   "id": "f3b9e7b5",
   "metadata": {},
   "source": [
    "## Local,Enclosing,Global,Built-in"
   ]
  },
  {
   "cell_type": "code",
   "execution_count": 10,
   "id": "38e7a938",
   "metadata": {},
   "outputs": [],
   "source": [
    "benimAdim = \"Ali Emre\"\n",
    "#Global\n",
    "\n",
    "def benimFoksiyonum():\n",
    "    benimAdim = \"Hakan\"\n",
    "    #Enclosing\n",
    "    def icFonksiyon():\n",
    "        benimAdim = \"Ferit\"\n",
    "        #Local\n",
    "        print(benimAdim)\n",
    "    icFonksiyon()"
   ]
  },
  {
   "cell_type": "code",
   "execution_count": 8,
   "id": "f6d55341",
   "metadata": {},
   "outputs": [
    {
     "name": "stdout",
     "output_type": "stream",
     "text": [
      "Ferit\n"
     ]
    }
   ],
   "source": [
    "benimFoksiyonum()"
   ]
  },
  {
   "cell_type": "code",
   "execution_count": 11,
   "id": "c37885ec",
   "metadata": {},
   "outputs": [
    {
     "name": "stdout",
     "output_type": "stream",
     "text": [
      "Ali Emre\n"
     ]
    }
   ],
   "source": [
    "print(benimAdim)"
   ]
  },
  {
   "cell_type": "code",
   "execution_count": 12,
   "id": "d7340f5a",
   "metadata": {},
   "outputs": [],
   "source": [
    "y = 10\n",
    "\n",
    "def yeniFonksiyon(y):\n",
    "    print(y)\n",
    "    y = 5\n",
    "    print(y)\n",
    "    return y "
   ]
  },
  {
   "cell_type": "code",
   "execution_count": 13,
   "id": "f34486b9",
   "metadata": {},
   "outputs": [
    {
     "name": "stdout",
     "output_type": "stream",
     "text": [
      "3\n",
      "5\n"
     ]
    },
    {
     "data": {
      "text/plain": [
       "5"
      ]
     },
     "execution_count": 13,
     "metadata": {},
     "output_type": "execute_result"
    }
   ],
   "source": [
    "yeniFonksiyon(3)"
   ]
  },
  {
   "cell_type": "code",
   "execution_count": 14,
   "id": "7238163a",
   "metadata": {},
   "outputs": [
    {
     "name": "stdout",
     "output_type": "stream",
     "text": [
      "3\n",
      "5\n"
     ]
    }
   ],
   "source": [
    "y = yeniFonksiyon(3)"
   ]
  },
  {
   "cell_type": "code",
   "execution_count": 15,
   "id": "8c43d681",
   "metadata": {},
   "outputs": [
    {
     "data": {
      "text/plain": [
       "5"
      ]
     },
     "execution_count": 15,
     "metadata": {},
     "output_type": "execute_result"
    }
   ],
   "source": [
    "y"
   ]
  },
  {
   "cell_type": "code",
   "execution_count": 22,
   "id": "1084c0a0",
   "metadata": {},
   "outputs": [],
   "source": [
    "y = 10\n",
    "\n",
    "def ornekFonksiyon():\n",
    "    global y\n",
    "    y = 5\n",
    "    print(y)"
   ]
  },
  {
   "cell_type": "code",
   "execution_count": 23,
   "id": "0abbbcad",
   "metadata": {},
   "outputs": [
    {
     "name": "stdout",
     "output_type": "stream",
     "text": [
      "5\n"
     ]
    }
   ],
   "source": [
    "ornekFonksiyon()"
   ]
  },
  {
   "cell_type": "code",
   "execution_count": 24,
   "id": "ec0b3eb4",
   "metadata": {},
   "outputs": [
    {
     "data": {
      "text/plain": [
       "5"
      ]
     },
     "execution_count": 24,
     "metadata": {},
     "output_type": "execute_result"
    }
   ],
   "source": [
    "y"
   ]
  },
  {
   "cell_type": "code",
   "execution_count": null,
   "id": "2951d3c4",
   "metadata": {},
   "outputs": [],
   "source": []
  }
 ],
 "metadata": {
  "kernelspec": {
   "display_name": "Python 3 (ipykernel)",
   "language": "python",
   "name": "python3"
  },
  "language_info": {
   "codemirror_mode": {
    "name": "ipython",
    "version": 3
   },
   "file_extension": ".py",
   "mimetype": "text/x-python",
   "name": "python",
   "nbconvert_exporter": "python",
   "pygments_lexer": "ipython3",
   "version": "3.9.7"
  }
 },
 "nbformat": 4,
 "nbformat_minor": 5
}
