{
 "cells": [
  {
   "cell_type": "code",
   "execution_count": 1,
   "id": "87eff45d",
   "metadata": {},
   "outputs": [],
   "source": [
    "benimString = \"Ali Emre Kısaboylu\""
   ]
  },
  {
   "cell_type": "code",
   "execution_count": 2,
   "id": "4303af95",
   "metadata": {},
   "outputs": [
    {
     "data": {
      "text/plain": [
       "'A'"
      ]
     },
     "execution_count": 2,
     "metadata": {},
     "output_type": "execute_result"
    }
   ],
   "source": [
    "benimString[0]"
   ]
  },
  {
   "cell_type": "code",
   "execution_count": 3,
   "id": "70be039f",
   "metadata": {},
   "outputs": [],
   "source": [
    "# immutability & mutable"
   ]
  },
  {
   "cell_type": "code",
   "execution_count": 4,
   "id": "b8472bf2",
   "metadata": {},
   "outputs": [],
   "source": [
    "#benimString[0] = \"B\" :böyle bi işlem yapılamaz"
   ]
  },
  {
   "cell_type": "code",
   "execution_count": 5,
   "id": "2f8d9804",
   "metadata": {},
   "outputs": [],
   "source": [
    "benimListem = [10,20,30,40]"
   ]
  },
  {
   "cell_type": "code",
   "execution_count": 6,
   "id": "b0a88a31",
   "metadata": {},
   "outputs": [
    {
     "data": {
      "text/plain": [
       "list"
      ]
     },
     "execution_count": 6,
     "metadata": {},
     "output_type": "execute_result"
    }
   ],
   "source": [
    "type(benimListem)"
   ]
  },
  {
   "cell_type": "code",
   "execution_count": 7,
   "id": "6b1f9024",
   "metadata": {},
   "outputs": [],
   "source": [
    "benimNumaram = 10\n",
    "benimDigerNumaram = 20"
   ]
  },
  {
   "cell_type": "code",
   "execution_count": 9,
   "id": "b2341dfc",
   "metadata": {},
   "outputs": [],
   "source": [
    "benimNumaraListem = [benimNumaram,benimDigerNumaram]"
   ]
  },
  {
   "cell_type": "code",
   "execution_count": 17,
   "id": "2aced2fa",
   "metadata": {},
   "outputs": [
    {
     "data": {
      "text/plain": [
       "40"
      ]
     },
     "execution_count": 17,
     "metadata": {},
     "output_type": "execute_result"
    }
   ],
   "source": [
    "benimListem[3]"
   ]
  },
  {
   "cell_type": "code",
   "execution_count": 11,
   "id": "041aa067",
   "metadata": {},
   "outputs": [
    {
     "data": {
      "text/plain": [
       "10"
      ]
     },
     "execution_count": 11,
     "metadata": {},
     "output_type": "execute_result"
    }
   ],
   "source": [
    "benimNumaraListem[0]"
   ]
  },
  {
   "cell_type": "code",
   "execution_count": 12,
   "id": "3c9f535d",
   "metadata": {},
   "outputs": [
    {
     "data": {
      "text/plain": [
       "[10, 20, 30, 40]"
      ]
     },
     "execution_count": 12,
     "metadata": {},
     "output_type": "execute_result"
    }
   ],
   "source": [
    "benimListem"
   ]
  },
  {
   "cell_type": "code",
   "execution_count": 13,
   "id": "8b625ba4",
   "metadata": {},
   "outputs": [],
   "source": [
    "benimListem[0]=100"
   ]
  },
  {
   "cell_type": "code",
   "execution_count": 14,
   "id": "f9bc296c",
   "metadata": {},
   "outputs": [
    {
     "data": {
      "text/plain": [
       "[100, 20, 30, 40]"
      ]
     },
     "execution_count": 14,
     "metadata": {},
     "output_type": "execute_result"
    }
   ],
   "source": [
    "benimListem"
   ]
  },
  {
   "cell_type": "code",
   "execution_count": 19,
   "id": "4c74a44b",
   "metadata": {},
   "outputs": [],
   "source": [
    "benimListem.append(50) #eleman ekleme (append)"
   ]
  },
  {
   "cell_type": "code",
   "execution_count": 18,
   "id": "5c1d1f94",
   "metadata": {},
   "outputs": [
    {
     "data": {
      "text/plain": [
       "[100, 20, 30, 40, 50]"
      ]
     },
     "execution_count": 18,
     "metadata": {},
     "output_type": "execute_result"
    }
   ],
   "source": [
    "benimListem"
   ]
  },
  {
   "cell_type": "code",
   "execution_count": 22,
   "id": "62012d85",
   "metadata": {},
   "outputs": [
    {
     "data": {
      "text/plain": [
       "50"
      ]
     },
     "execution_count": 22,
     "metadata": {},
     "output_type": "execute_result"
    }
   ],
   "source": [
    "benimListem.pop() #son elemanı atmaya yarar (pop)"
   ]
  },
  {
   "cell_type": "code",
   "execution_count": 23,
   "id": "8c33abe7",
   "metadata": {},
   "outputs": [
    {
     "data": {
      "text/plain": [
       "[100, 20, 30, 40]"
      ]
     },
     "execution_count": 23,
     "metadata": {},
     "output_type": "execute_result"
    }
   ],
   "source": [
    "benimListem"
   ]
  },
  {
   "cell_type": "code",
   "execution_count": 24,
   "id": "3867bf7d",
   "metadata": {},
   "outputs": [],
   "source": [
    "benimListem.remove(40) #hangi elemanı çıkarmak istiyorsan kullanılır"
   ]
  },
  {
   "cell_type": "code",
   "execution_count": 25,
   "id": "6a9d2699",
   "metadata": {},
   "outputs": [
    {
     "data": {
      "text/plain": [
       "[100, 20, 30]"
      ]
     },
     "execution_count": 25,
     "metadata": {},
     "output_type": "execute_result"
    }
   ],
   "source": [
    "benimListem"
   ]
  },
  {
   "cell_type": "code",
   "execution_count": 26,
   "id": "c7b245dd",
   "metadata": {},
   "outputs": [
    {
     "data": {
      "text/plain": [
       "1"
      ]
     },
     "execution_count": 26,
     "metadata": {},
     "output_type": "execute_result"
    }
   ],
   "source": [
    "benimListem.count(20)"
   ]
  },
  {
   "cell_type": "code",
   "execution_count": 27,
   "id": "4be1fb4f",
   "metadata": {},
   "outputs": [],
   "source": [
    "benimListem.append(20)"
   ]
  },
  {
   "cell_type": "code",
   "execution_count": 28,
   "id": "8a1cfc32",
   "metadata": {},
   "outputs": [
    {
     "data": {
      "text/plain": [
       "[100, 20, 30, 20]"
      ]
     },
     "execution_count": 28,
     "metadata": {},
     "output_type": "execute_result"
    }
   ],
   "source": [
    "benimListem"
   ]
  },
  {
   "cell_type": "code",
   "execution_count": 29,
   "id": "729ae080",
   "metadata": {},
   "outputs": [
    {
     "data": {
      "text/plain": [
       "2"
      ]
     },
     "execution_count": 29,
     "metadata": {},
     "output_type": "execute_result"
    }
   ],
   "source": [
    "benimListem.count(20)"
   ]
  },
  {
   "cell_type": "code",
   "execution_count": 30,
   "id": "671375a4",
   "metadata": {},
   "outputs": [],
   "source": [
    "benimStringListem = [\"ali\",\"emre\",\"hakan\"]"
   ]
  },
  {
   "cell_type": "code",
   "execution_count": 31,
   "id": "b016037f",
   "metadata": {},
   "outputs": [],
   "source": [
    "benimDigerListem = [\"mustafa\",\"ferit\",\"ayten\"]"
   ]
  },
  {
   "cell_type": "code",
   "execution_count": 32,
   "id": "55699004",
   "metadata": {},
   "outputs": [],
   "source": [
    "benimToplamaListem = benimStringListem + benimDigerListem"
   ]
  },
  {
   "cell_type": "code",
   "execution_count": 33,
   "id": "7624ccc2",
   "metadata": {},
   "outputs": [
    {
     "data": {
      "text/plain": [
       "['ali', 'emre', 'hakan', 'mustafa', 'ferit', 'ayten']"
      ]
     },
     "execution_count": 33,
     "metadata": {},
     "output_type": "execute_result"
    }
   ],
   "source": [
    "benimToplamaListem"
   ]
  },
  {
   "cell_type": "code",
   "execution_count": 34,
   "id": "5e7d8e5a",
   "metadata": {},
   "outputs": [
    {
     "data": {
      "text/plain": [
       "['ali',\n",
       " 'emre',\n",
       " 'hakan',\n",
       " 'ali',\n",
       " 'emre',\n",
       " 'hakan',\n",
       " 'ali',\n",
       " 'emre',\n",
       " 'hakan',\n",
       " 'ali',\n",
       " 'emre',\n",
       " 'hakan',\n",
       " 'ali',\n",
       " 'emre',\n",
       " 'hakan']"
      ]
     },
     "execution_count": 34,
     "metadata": {},
     "output_type": "execute_result"
    }
   ],
   "source": [
    "benimStringListem * 5"
   ]
  },
  {
   "cell_type": "code",
   "execution_count": 35,
   "id": "7b41bc2f",
   "metadata": {},
   "outputs": [
    {
     "data": {
      "text/plain": [
       "['ali', 'emre', 'hakan', 'mustafa', 'ferit', 'ayten']"
      ]
     },
     "execution_count": 35,
     "metadata": {},
     "output_type": "execute_result"
    }
   ],
   "source": [
    "benimToplamaListem"
   ]
  },
  {
   "cell_type": "code",
   "execution_count": 37,
   "id": "9079fb67",
   "metadata": {},
   "outputs": [],
   "source": [
    "benimToplamaListem.reverse()"
   ]
  },
  {
   "cell_type": "code",
   "execution_count": 38,
   "id": "bf14b034",
   "metadata": {},
   "outputs": [
    {
     "data": {
      "text/plain": [
       "['ayten', 'ferit', 'mustafa', 'hakan', 'emre', 'ali']"
      ]
     },
     "execution_count": 38,
     "metadata": {},
     "output_type": "execute_result"
    }
   ],
   "source": [
    "benimToplamaListem"
   ]
  },
  {
   "cell_type": "code",
   "execution_count": 39,
   "id": "7b192be4",
   "metadata": {},
   "outputs": [],
   "source": [
    "karisikListe = [1,2,3.5,\"ali\",9]"
   ]
  },
  {
   "cell_type": "code",
   "execution_count": 40,
   "id": "83db9b0b",
   "metadata": {},
   "outputs": [
    {
     "data": {
      "text/plain": [
       "list"
      ]
     },
     "execution_count": 40,
     "metadata": {},
     "output_type": "execute_result"
    }
   ],
   "source": [
    "type(karisikListe)"
   ]
  },
  {
   "cell_type": "code",
   "execution_count": 44,
   "id": "31258c59",
   "metadata": {},
   "outputs": [
    {
     "data": {
      "text/plain": [
       "'ali'"
      ]
     },
     "execution_count": 44,
     "metadata": {},
     "output_type": "execute_result"
    }
   ],
   "source": [
    "sonucum = karisikListe[3]\n",
    "karisikListe[3]"
   ]
  },
  {
   "cell_type": "code",
   "execution_count": 45,
   "id": "cd023728",
   "metadata": {},
   "outputs": [
    {
     "data": {
      "text/plain": [
       "str"
      ]
     },
     "execution_count": 45,
     "metadata": {},
     "output_type": "execute_result"
    }
   ],
   "source": [
    "type(sonucum)"
   ]
  },
  {
   "cell_type": "code",
   "execution_count": 46,
   "id": "1e51a9ae",
   "metadata": {},
   "outputs": [],
   "source": [
    "nestedList = [1,5,\"ali\",4,[6,\"z\"]]"
   ]
  },
  {
   "cell_type": "code",
   "execution_count": 53,
   "id": "30a42044",
   "metadata": {},
   "outputs": [],
   "source": [
    "zDegiskenimiz = nestedList[4][1]"
   ]
  },
  {
   "cell_type": "code",
   "execution_count": 54,
   "id": "afbc6206",
   "metadata": {},
   "outputs": [
    {
     "data": {
      "text/plain": [
       "'z'"
      ]
     },
     "execution_count": 54,
     "metadata": {},
     "output_type": "execute_result"
    }
   ],
   "source": [
    "zDegiskenimiz"
   ]
  },
  {
   "cell_type": "code",
   "execution_count": 56,
   "id": "4fde3ebf",
   "metadata": {},
   "outputs": [],
   "source": [
    "karmasikListe = [[1,2,3,[\"a\",\"b\"],50],40,20,[\"z\",5.5],[3,[\"a\"]]]"
   ]
  },
  {
   "cell_type": "code",
   "execution_count": 61,
   "id": "b6937393",
   "metadata": {},
   "outputs": [],
   "source": [
    "bDegiskenimiz = karmasikListe[0][3][1]"
   ]
  },
  {
   "cell_type": "code",
   "execution_count": 62,
   "id": "aa577607",
   "metadata": {},
   "outputs": [
    {
     "data": {
      "text/plain": [
       "'b'"
      ]
     },
     "execution_count": 62,
     "metadata": {},
     "output_type": "execute_result"
    }
   ],
   "source": [
    "bDegiskenimiz"
   ]
  },
  {
   "cell_type": "code",
   "execution_count": 63,
   "id": "49d986c7",
   "metadata": {},
   "outputs": [
    {
     "data": {
      "text/plain": [
       "[1, 5, 'ali', 4, [6, 'z']]"
      ]
     },
     "execution_count": 63,
     "metadata": {},
     "output_type": "execute_result"
    }
   ],
   "source": [
    "nestedList"
   ]
  },
  {
   "cell_type": "code",
   "execution_count": 64,
   "id": "9a06ec4e",
   "metadata": {},
   "outputs": [
    {
     "data": {
      "text/plain": [
       "['ali', 4, [6, 'z']]"
      ]
     },
     "execution_count": 64,
     "metadata": {},
     "output_type": "execute_result"
    }
   ],
   "source": [
    "nestedList[2:]"
   ]
  },
  {
   "cell_type": "code",
   "execution_count": 65,
   "id": "bf142dc9",
   "metadata": {},
   "outputs": [
    {
     "data": {
      "text/plain": [
       "[1, 5]"
      ]
     },
     "execution_count": 65,
     "metadata": {},
     "output_type": "execute_result"
    }
   ],
   "source": [
    "nestedList[:2]"
   ]
  },
  {
   "cell_type": "code",
   "execution_count": null,
   "id": "f4bef348",
   "metadata": {},
   "outputs": [],
   "source": []
  }
 ],
 "metadata": {
  "kernelspec": {
   "display_name": "Python 3 (ipykernel)",
   "language": "python",
   "name": "python3"
  },
  "language_info": {
   "codemirror_mode": {
    "name": "ipython",
    "version": 3
   },
   "file_extension": ".py",
   "mimetype": "text/x-python",
   "name": "python",
   "nbconvert_exporter": "python",
   "pygments_lexer": "ipython3",
   "version": "3.9.7"
  }
 },
 "nbformat": 4,
 "nbformat_minor": 5
}
