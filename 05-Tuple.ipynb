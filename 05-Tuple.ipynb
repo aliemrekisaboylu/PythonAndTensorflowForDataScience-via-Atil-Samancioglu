{
 "cells": [
  {
   "cell_type": "code",
   "execution_count": 1,
   "id": "6a99b124",
   "metadata": {},
   "outputs": [],
   "source": [
    "benimListem = [1,2,\"a\",4.5]"
   ]
  },
  {
   "cell_type": "code",
   "execution_count": 3,
   "id": "da60b7ff",
   "metadata": {},
   "outputs": [
    {
     "data": {
      "text/plain": [
       "1"
      ]
     },
     "execution_count": 3,
     "metadata": {},
     "output_type": "execute_result"
    }
   ],
   "source": [
    "benimListem[0]"
   ]
  },
  {
   "cell_type": "code",
   "execution_count": 4,
   "id": "c5e48206",
   "metadata": {},
   "outputs": [],
   "source": [
    "benimListem[0] = 100"
   ]
  },
  {
   "cell_type": "code",
   "execution_count": 6,
   "id": "ae62dabb",
   "metadata": {},
   "outputs": [
    {
     "data": {
      "text/plain": [
       "[100, 2, 'a', 4.5]"
      ]
     },
     "execution_count": 6,
     "metadata": {},
     "output_type": "execute_result"
    }
   ],
   "source": [
    "benimListem"
   ]
  },
  {
   "cell_type": "code",
   "execution_count": 7,
   "id": "b2a65a53",
   "metadata": {},
   "outputs": [],
   "source": [
    "benimTuple = (1,2,\"a\",4.5)"
   ]
  },
  {
   "cell_type": "code",
   "execution_count": 8,
   "id": "38995182",
   "metadata": {},
   "outputs": [
    {
     "data": {
      "text/plain": [
       "(1, 2, 'a', 4.5)"
      ]
     },
     "execution_count": 8,
     "metadata": {},
     "output_type": "execute_result"
    }
   ],
   "source": [
    "benimTuple"
   ]
  },
  {
   "cell_type": "code",
   "execution_count": 9,
   "id": "7210c188",
   "metadata": {},
   "outputs": [
    {
     "data": {
      "text/plain": [
       "1"
      ]
     },
     "execution_count": 9,
     "metadata": {},
     "output_type": "execute_result"
    }
   ],
   "source": [
    "benimTuple[0]"
   ]
  },
  {
   "cell_type": "code",
   "execution_count": 10,
   "id": "49b3492f",
   "metadata": {},
   "outputs": [],
   "source": [
    "#benimTuple[2] = \"b\""
   ]
  },
  {
   "cell_type": "code",
   "execution_count": 11,
   "id": "e55a3794",
   "metadata": {},
   "outputs": [
    {
     "data": {
      "text/plain": [
       "1"
      ]
     },
     "execution_count": 11,
     "metadata": {},
     "output_type": "execute_result"
    }
   ],
   "source": [
    "benimTuple.count(\"a\")"
   ]
  },
  {
   "cell_type": "code",
   "execution_count": 12,
   "id": "5fc50546",
   "metadata": {},
   "outputs": [
    {
     "data": {
      "text/plain": [
       "3"
      ]
     },
     "execution_count": 12,
     "metadata": {},
     "output_type": "execute_result"
    }
   ],
   "source": [
    "benimTuple.index(4.5)"
   ]
  },
  {
   "cell_type": "code",
   "execution_count": null,
   "id": "d7b35e1a",
   "metadata": {},
   "outputs": [],
   "source": []
  }
 ],
 "metadata": {
  "kernelspec": {
   "display_name": "Python 3 (ipykernel)",
   "language": "python",
   "name": "python3"
  },
  "language_info": {
   "codemirror_mode": {
    "name": "ipython",
    "version": 3
   },
   "file_extension": ".py",
   "mimetype": "text/x-python",
   "name": "python",
   "nbconvert_exporter": "python",
   "pygments_lexer": "ipython3",
   "version": "3.9.7"
  }
 },
 "nbformat": 4,
 "nbformat_minor": 5
}
