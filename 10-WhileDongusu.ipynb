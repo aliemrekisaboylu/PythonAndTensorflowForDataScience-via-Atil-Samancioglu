{
 "cells": [
  {
   "cell_type": "code",
   "execution_count": 6,
   "id": "8e6a2aa2",
   "metadata": {},
   "outputs": [
    {
     "name": "stdout",
     "output_type": "stream",
     "text": [
      "0\n",
      "1\n",
      "2\n",
      "3\n",
      "4\n",
      "5\n",
      "6\n",
      "7\n",
      "8\n",
      "9\n"
     ]
    }
   ],
   "source": [
    "x = 0\n",
    "while x < 10:\n",
    "    print(x)\n",
    "    x = x + 1"
   ]
  },
  {
   "cell_type": "code",
   "execution_count": 7,
   "id": "895f7cdd",
   "metadata": {},
   "outputs": [],
   "source": [
    "benimListem = [1,2,3,4,5]"
   ]
  },
  {
   "cell_type": "code",
   "execution_count": 8,
   "id": "17e78bdd",
   "metadata": {},
   "outputs": [
    {
     "data": {
      "text/plain": [
       "5"
      ]
     },
     "execution_count": 8,
     "metadata": {},
     "output_type": "execute_result"
    }
   ],
   "source": [
    "benimListem.pop()"
   ]
  },
  {
   "cell_type": "code",
   "execution_count": 9,
   "id": "e763557e",
   "metadata": {},
   "outputs": [
    {
     "data": {
      "text/plain": [
       "[1, 2, 3, 4]"
      ]
     },
     "execution_count": 9,
     "metadata": {},
     "output_type": "execute_result"
    }
   ],
   "source": [
    "benimListem"
   ]
  },
  {
   "cell_type": "code",
   "execution_count": 10,
   "id": "bf42bb9b",
   "metadata": {},
   "outputs": [],
   "source": [
    "benimListem.append(5)"
   ]
  },
  {
   "cell_type": "code",
   "execution_count": 11,
   "id": "05d8e9ed",
   "metadata": {},
   "outputs": [
    {
     "data": {
      "text/plain": [
       "[1, 2, 3, 4, 5]"
      ]
     },
     "execution_count": 11,
     "metadata": {},
     "output_type": "execute_result"
    }
   ],
   "source": [
    "benimListem"
   ]
  },
  {
   "cell_type": "code",
   "execution_count": 12,
   "id": "671b216b",
   "metadata": {},
   "outputs": [
    {
     "name": "stdout",
     "output_type": "stream",
     "text": [
      "3 hala listenin içerisinde\n",
      "3 hala listenin içerisinde\n",
      "3 hala listenin içerisinde\n"
     ]
    }
   ],
   "source": [
    "while 3 in benimListem:\n",
    "    print(\"3 hala listenin içerisinde\")\n",
    "    benimListem.pop()"
   ]
  },
  {
   "cell_type": "code",
   "execution_count": 13,
   "id": "11f20091",
   "metadata": {},
   "outputs": [],
   "source": [
    "numara = 0"
   ]
  },
  {
   "cell_type": "code",
   "execution_count": 14,
   "id": "bd5f6a8b",
   "metadata": {},
   "outputs": [
    {
     "name": "stdout",
     "output_type": "stream",
     "text": [
      "0\n",
      "1\n",
      "2\n",
      "3\n"
     ]
    }
   ],
   "source": [
    "while numara < 5:\n",
    "    if numara ==4:\n",
    "        break\n",
    "    print(numara)\n",
    "    numara = numara + 1"
   ]
  },
  {
   "cell_type": "code",
   "execution_count": 21,
   "id": "64cccd25",
   "metadata": {},
   "outputs": [
    {
     "name": "stdout",
     "output_type": "stream",
     "text": [
      "yeniDegisken'in güncel degeri: 0\n",
      "yeniDegisken'in güncel degeri: 1\n",
      "yeniDegisken'in güncel degeri: 2\n",
      "yeniDegisken'in güncel degeri: 3\n",
      "yeniDegisken'in güncel degeri: 4\n",
      "yeniDegisken'in güncel degeri: 5\n",
      "yeniDegisken'in güncel degeri: 6\n",
      "yeniDegisken'in güncel degeri: 7\n",
      "yeniDegisken'in güncel degeri: 8\n",
      "yeniDegisken'in güncel degeri: 9\n",
      "yeniDegisken'in güncel degeri: 10\n",
      "yeniDegisken'in güncel degeri: 11\n",
      "yeniDegisken'in güncel degeri: 12\n",
      "yeniDegisken'in güncel degeri: 13\n",
      "yeniDegisken'in güncel degeri: 14\n"
     ]
    }
   ],
   "source": [
    "yeniDegisken = 0\n",
    "while yeniDegisken < 15:\n",
    "    #print(\"yeniDegisken'in güncel değeri : \" + str(yeniDegisken))\n",
    "    print(f\"yeniDegisken'in güncel degeri: {yeniDegisken}\")\n",
    "    yeniDegisken = yeniDegisken + 1"
   ]
  },
  {
   "cell_type": "code",
   "execution_count": 19,
   "id": "c5a243df",
   "metadata": {},
   "outputs": [],
   "source": []
  },
  {
   "cell_type": "code",
   "execution_count": null,
   "id": "14245dd5",
   "metadata": {},
   "outputs": [],
   "source": []
  }
 ],
 "metadata": {
  "kernelspec": {
   "display_name": "Python 3 (ipykernel)",
   "language": "python",
   "name": "python3"
  },
  "language_info": {
   "codemirror_mode": {
    "name": "ipython",
    "version": 3
   },
   "file_extension": ".py",
   "mimetype": "text/x-python",
   "name": "python",
   "nbconvert_exporter": "python",
   "pygments_lexer": "ipython3",
   "version": "3.9.7"
  }
 },
 "nbformat": 4,
 "nbformat_minor": 5
}
