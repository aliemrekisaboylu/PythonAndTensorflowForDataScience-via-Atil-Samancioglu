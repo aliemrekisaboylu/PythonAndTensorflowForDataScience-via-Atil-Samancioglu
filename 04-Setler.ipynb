{
 "cells": [
  {
   "cell_type": "code",
   "execution_count": 1,
   "id": "4b8b3308",
   "metadata": {},
   "outputs": [],
   "source": [
    "benimListem = [1,2,3,1,2,3]"
   ]
  },
  {
   "cell_type": "code",
   "execution_count": 2,
   "id": "f960d2f3",
   "metadata": {},
   "outputs": [
    {
     "data": {
      "text/plain": [
       "1"
      ]
     },
     "execution_count": 2,
     "metadata": {},
     "output_type": "execute_result"
    }
   ],
   "source": [
    "benimListem[3]"
   ]
  },
  {
   "cell_type": "code",
   "execution_count": 3,
   "id": "b1854799",
   "metadata": {},
   "outputs": [],
   "source": [
    "benimListeSetim = set(benimListem)"
   ]
  },
  {
   "cell_type": "code",
   "execution_count": 4,
   "id": "1e217a29",
   "metadata": {},
   "outputs": [
    {
     "data": {
      "text/plain": [
       "list"
      ]
     },
     "execution_count": 4,
     "metadata": {},
     "output_type": "execute_result"
    }
   ],
   "source": [
    "type(benimListem)"
   ]
  },
  {
   "cell_type": "code",
   "execution_count": 5,
   "id": "a37d2612",
   "metadata": {},
   "outputs": [
    {
     "data": {
      "text/plain": [
       "set"
      ]
     },
     "execution_count": 5,
     "metadata": {},
     "output_type": "execute_result"
    }
   ],
   "source": [
    "type(benimListeSetim)"
   ]
  },
  {
   "cell_type": "code",
   "execution_count": 6,
   "id": "ced4930d",
   "metadata": {},
   "outputs": [
    {
     "data": {
      "text/plain": [
       "{1, 2, 3}"
      ]
     },
     "execution_count": 6,
     "metadata": {},
     "output_type": "execute_result"
    }
   ],
   "source": [
    "benimListeSetim"
   ]
  },
  {
   "cell_type": "code",
   "execution_count": 9,
   "id": "fc579a7e",
   "metadata": {},
   "outputs": [],
   "source": [
    "benimSet = {\"a\",\"b\",\"c\",\"a\"}"
   ]
  },
  {
   "cell_type": "code",
   "execution_count": 8,
   "id": "471e16c8",
   "metadata": {},
   "outputs": [
    {
     "data": {
      "text/plain": [
       "set"
      ]
     },
     "execution_count": 8,
     "metadata": {},
     "output_type": "execute_result"
    }
   ],
   "source": [
    "type(benimSet)"
   ]
  },
  {
   "cell_type": "code",
   "execution_count": 10,
   "id": "5e4719af",
   "metadata": {},
   "outputs": [
    {
     "data": {
      "text/plain": [
       "{'a', 'b', 'c'}"
      ]
     },
     "execution_count": 10,
     "metadata": {},
     "output_type": "execute_result"
    }
   ],
   "source": [
    "benimSet"
   ]
  },
  {
   "cell_type": "code",
   "execution_count": 11,
   "id": "f1ea2b5c",
   "metadata": {},
   "outputs": [],
   "source": [
    "bosListe = []"
   ]
  },
  {
   "cell_type": "code",
   "execution_count": 12,
   "id": "661902aa",
   "metadata": {},
   "outputs": [
    {
     "data": {
      "text/plain": [
       "list"
      ]
     },
     "execution_count": 12,
     "metadata": {},
     "output_type": "execute_result"
    }
   ],
   "source": [
    "type(bosListe)"
   ]
  },
  {
   "cell_type": "code",
   "execution_count": 13,
   "id": "44923594",
   "metadata": {},
   "outputs": [
    {
     "data": {
      "text/plain": [
       "[]"
      ]
     },
     "execution_count": 13,
     "metadata": {},
     "output_type": "execute_result"
    }
   ],
   "source": [
    "bosListe"
   ]
  },
  {
   "cell_type": "code",
   "execution_count": 16,
   "id": "c8e71bb0",
   "metadata": {},
   "outputs": [],
   "source": [
    "bosSozluk = {}"
   ]
  },
  {
   "cell_type": "code",
   "execution_count": 17,
   "id": "a301fde6",
   "metadata": {},
   "outputs": [
    {
     "data": {
      "text/plain": [
       "dict"
      ]
     },
     "execution_count": 17,
     "metadata": {},
     "output_type": "execute_result"
    }
   ],
   "source": [
    "type(bosSozluk)"
   ]
  },
  {
   "cell_type": "code",
   "execution_count": 18,
   "id": "753191dd",
   "metadata": {},
   "outputs": [],
   "source": [
    "bosSozluk[\"anahtarKelime\"] = 10"
   ]
  },
  {
   "cell_type": "code",
   "execution_count": 19,
   "id": "dfc022e7",
   "metadata": {},
   "outputs": [
    {
     "data": {
      "text/plain": [
       "{'anahtarKelime': 10}"
      ]
     },
     "execution_count": 19,
     "metadata": {},
     "output_type": "execute_result"
    }
   ],
   "source": [
    "bosSozluk"
   ]
  },
  {
   "cell_type": "code",
   "execution_count": 20,
   "id": "43d6a9d7",
   "metadata": {},
   "outputs": [],
   "source": [
    "benimBosSetim = set()"
   ]
  },
  {
   "cell_type": "code",
   "execution_count": 21,
   "id": "994c9857",
   "metadata": {},
   "outputs": [
    {
     "data": {
      "text/plain": [
       "set()"
      ]
     },
     "execution_count": 21,
     "metadata": {},
     "output_type": "execute_result"
    }
   ],
   "source": [
    "benimBosSetim"
   ]
  },
  {
   "cell_type": "code",
   "execution_count": 22,
   "id": "1342c405",
   "metadata": {},
   "outputs": [],
   "source": [
    "benimBosSetim.add(10)"
   ]
  },
  {
   "cell_type": "code",
   "execution_count": 23,
   "id": "5bc4dc17",
   "metadata": {},
   "outputs": [],
   "source": [
    "benimBosSetim.add(10)"
   ]
  },
  {
   "cell_type": "code",
   "execution_count": 24,
   "id": "a18c91be",
   "metadata": {},
   "outputs": [],
   "source": [
    "benimBosSetim.add(20)"
   ]
  },
  {
   "cell_type": "code",
   "execution_count": 25,
   "id": "5c1c431e",
   "metadata": {},
   "outputs": [
    {
     "data": {
      "text/plain": [
       "{10, 20}"
      ]
     },
     "execution_count": 25,
     "metadata": {},
     "output_type": "execute_result"
    }
   ],
   "source": [
    "benimBosSetim"
   ]
  },
  {
   "cell_type": "code",
   "execution_count": 26,
   "id": "f67a84d4",
   "metadata": {},
   "outputs": [],
   "source": [
    "benimBosListem = list()"
   ]
  },
  {
   "cell_type": "code",
   "execution_count": 27,
   "id": "58662059",
   "metadata": {},
   "outputs": [
    {
     "data": {
      "text/plain": [
       "[]"
      ]
     },
     "execution_count": 27,
     "metadata": {},
     "output_type": "execute_result"
    }
   ],
   "source": [
    "benimBosListem"
   ]
  },
  {
   "cell_type": "code",
   "execution_count": 28,
   "id": "2a42e33a",
   "metadata": {},
   "outputs": [],
   "source": [
    "benimBosListem.append(10)"
   ]
  },
  {
   "cell_type": "code",
   "execution_count": 29,
   "id": "a6641e00",
   "metadata": {},
   "outputs": [
    {
     "data": {
      "text/plain": [
       "[10]"
      ]
     },
     "execution_count": 29,
     "metadata": {},
     "output_type": "execute_result"
    }
   ],
   "source": [
    "benimBosListem"
   ]
  },
  {
   "cell_type": "code",
   "execution_count": 30,
   "id": "c4411aa4",
   "metadata": {},
   "outputs": [],
   "source": [
    "benimBosSozlugum = dict()"
   ]
  },
  {
   "cell_type": "code",
   "execution_count": 31,
   "id": "58d7b2a1",
   "metadata": {},
   "outputs": [],
   "source": [
    "benimBosSozlugum[\"key\"] = 3234"
   ]
  },
  {
   "cell_type": "code",
   "execution_count": 32,
   "id": "3d200ab3",
   "metadata": {},
   "outputs": [
    {
     "data": {
      "text/plain": [
       "{'key': 3234}"
      ]
     },
     "execution_count": 32,
     "metadata": {},
     "output_type": "execute_result"
    }
   ],
   "source": [
    "benimBosSozlugum"
   ]
  },
  {
   "cell_type": "code",
   "execution_count": null,
   "id": "34c6f360",
   "metadata": {},
   "outputs": [],
   "source": []
  }
 ],
 "metadata": {
  "kernelspec": {
   "display_name": "Python 3 (ipykernel)",
   "language": "python",
   "name": "python3"
  },
  "language_info": {
   "codemirror_mode": {
    "name": "ipython",
    "version": 3
   },
   "file_extension": ".py",
   "mimetype": "text/x-python",
   "name": "python",
   "nbconvert_exporter": "python",
   "pygments_lexer": "ipython3",
   "version": "3.9.7"
  }
 },
 "nbformat": 4,
 "nbformat_minor": 5
}
