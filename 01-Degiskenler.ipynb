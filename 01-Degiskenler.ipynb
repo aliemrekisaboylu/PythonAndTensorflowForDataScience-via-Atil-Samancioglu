{
 "cells": [
  {
   "cell_type": "code",
   "execution_count": 18,
   "id": "d3a55d74",
   "metadata": {},
   "outputs": [
    {
     "data": {
      "text/plain": [
       "20"
      ]
     },
     "execution_count": 18,
     "metadata": {},
     "output_type": "execute_result"
    }
   ],
   "source": [
    "5*4"
   ]
  },
  {
   "cell_type": "code",
   "execution_count": 19,
   "id": "0c30e922",
   "metadata": {},
   "outputs": [
    {
     "data": {
      "text/plain": [
       "3500"
      ]
     },
     "execution_count": 19,
     "metadata": {},
     "output_type": "execute_result"
    }
   ],
   "source": [
    "1000 + 2500"
   ]
  },
  {
   "cell_type": "markdown",
   "id": "abc39784",
   "metadata": {},
   "source": [
    "## Veriables (Değişkenler)"
   ]
  },
  {
   "cell_type": "code",
   "execution_count": 28,
   "id": "5b868211",
   "metadata": {},
   "outputs": [],
   "source": [
    "x = 5"
   ]
  },
  {
   "cell_type": "code",
   "execution_count": 21,
   "id": "4c46a9c7",
   "metadata": {},
   "outputs": [],
   "source": [
    "y = 4"
   ]
  },
  {
   "cell_type": "code",
   "execution_count": 29,
   "id": "bb101b2b",
   "metadata": {},
   "outputs": [
    {
     "data": {
      "text/plain": [
       "20"
      ]
     },
     "execution_count": 29,
     "metadata": {},
     "output_type": "execute_result"
    }
   ],
   "source": [
    "x * y"
   ]
  },
  {
   "cell_type": "code",
   "execution_count": 23,
   "id": "42b49669",
   "metadata": {},
   "outputs": [
    {
     "data": {
      "text/plain": [
       "5"
      ]
     },
     "execution_count": 23,
     "metadata": {},
     "output_type": "execute_result"
    }
   ],
   "source": [
    "x"
   ]
  },
  {
   "cell_type": "code",
   "execution_count": 24,
   "id": "074ff8e6",
   "metadata": {},
   "outputs": [],
   "source": [
    "x = 6"
   ]
  },
  {
   "cell_type": "code",
   "execution_count": 25,
   "id": "70e57dd5",
   "metadata": {},
   "outputs": [
    {
     "data": {
      "text/plain": [
       "24"
      ]
     },
     "execution_count": 25,
     "metadata": {},
     "output_type": "execute_result"
    }
   ],
   "source": [
    "x * y"
   ]
  },
  {
   "cell_type": "code",
   "execution_count": 27,
   "id": "7b01c8bd",
   "metadata": {},
   "outputs": [
    {
     "data": {
      "text/plain": [
       "40"
      ]
     },
     "execution_count": 27,
     "metadata": {},
     "output_type": "execute_result"
    }
   ],
   "source": [
    "y * 10"
   ]
  },
  {
   "cell_type": "markdown",
   "id": "5aed5782",
   "metadata": {},
   "source": [
    "# Integer & Float"
   ]
  },
  {
   "cell_type": "code",
   "execution_count": 30,
   "id": "27de8dc9",
   "metadata": {},
   "outputs": [],
   "source": [
    "benimDegiskenim = 10\n",
    "benimDigerDegiskenim = 20"
   ]
  },
  {
   "cell_type": "code",
   "execution_count": 31,
   "id": "3870b397",
   "metadata": {},
   "outputs": [
    {
     "data": {
      "text/plain": [
       "30"
      ]
     },
     "execution_count": 31,
     "metadata": {},
     "output_type": "execute_result"
    }
   ],
   "source": [
    "benimDegiskenim + benimDigerDegiskenim "
   ]
  },
  {
   "cell_type": "code",
   "execution_count": 32,
   "id": "bde7cb21",
   "metadata": {},
   "outputs": [
    {
     "data": {
      "text/plain": [
       "int"
      ]
     },
     "execution_count": 32,
     "metadata": {},
     "output_type": "execute_result"
    }
   ],
   "source": [
    "type(benimDegiskenim)"
   ]
  },
  {
   "cell_type": "code",
   "execution_count": 35,
   "id": "0119a2eb",
   "metadata": {},
   "outputs": [],
   "source": [
    "sonuc = benimDigerDegiskenim / benimDegiskenim"
   ]
  },
  {
   "cell_type": "code",
   "execution_count": 36,
   "id": "7b9d3e09",
   "metadata": {},
   "outputs": [
    {
     "data": {
      "text/plain": [
       "2.0"
      ]
     },
     "execution_count": 36,
     "metadata": {},
     "output_type": "execute_result"
    }
   ],
   "source": [
    "sonuc"
   ]
  },
  {
   "cell_type": "code",
   "execution_count": 37,
   "id": "22cd4489",
   "metadata": {},
   "outputs": [
    {
     "data": {
      "text/plain": [
       "float"
      ]
     },
     "execution_count": 37,
     "metadata": {},
     "output_type": "execute_result"
    }
   ],
   "source": [
    "type(sonuc)"
   ]
  },
  {
   "cell_type": "code",
   "execution_count": 38,
   "id": "e409738c",
   "metadata": {},
   "outputs": [],
   "source": [
    "a = 3\n",
    "b = 2"
   ]
  },
  {
   "cell_type": "code",
   "execution_count": 39,
   "id": "7e2a7750",
   "metadata": {},
   "outputs": [
    {
     "data": {
      "text/plain": [
       "1.5"
      ]
     },
     "execution_count": 39,
     "metadata": {},
     "output_type": "execute_result"
    }
   ],
   "source": [
    "a / b "
   ]
  },
  {
   "cell_type": "code",
   "execution_count": 40,
   "id": "26cd5480",
   "metadata": {},
   "outputs": [],
   "source": [
    "pi = 3.14"
   ]
  },
  {
   "cell_type": "code",
   "execution_count": 41,
   "id": "2481d0e6",
   "metadata": {},
   "outputs": [
    {
     "data": {
      "text/plain": [
       "float"
      ]
     },
     "execution_count": 41,
     "metadata": {},
     "output_type": "execute_result"
    }
   ],
   "source": [
    "type(pi)"
   ]
  },
  {
   "cell_type": "code",
   "execution_count": 42,
   "id": "38634fde",
   "metadata": {},
   "outputs": [],
   "source": [
    "a = 5"
   ]
  },
  {
   "cell_type": "code",
   "execution_count": 43,
   "id": "eed55b9b",
   "metadata": {},
   "outputs": [
    {
     "data": {
      "text/plain": [
       "int"
      ]
     },
     "execution_count": 43,
     "metadata": {},
     "output_type": "execute_result"
    }
   ],
   "source": [
    "type(a)"
   ]
  },
  {
   "cell_type": "code",
   "execution_count": 44,
   "id": "349cd75f",
   "metadata": {},
   "outputs": [
    {
     "data": {
      "text/plain": [
       "8.14"
      ]
     },
     "execution_count": 44,
     "metadata": {},
     "output_type": "execute_result"
    }
   ],
   "source": [
    "a + pi"
   ]
  },
  {
   "cell_type": "code",
   "execution_count": 45,
   "id": "364dd0e8",
   "metadata": {},
   "outputs": [
    {
     "data": {
      "text/plain": [
       "15.700000000000001"
      ]
     },
     "execution_count": 45,
     "metadata": {},
     "output_type": "execute_result"
    }
   ],
   "source": [
    "a * pi "
   ]
  },
  {
   "cell_type": "code",
   "execution_count": 46,
   "id": "2a5e73df",
   "metadata": {},
   "outputs": [
    {
     "data": {
      "text/plain": [
       "1.592356687898089"
      ]
     },
     "execution_count": 46,
     "metadata": {},
     "output_type": "execute_result"
    }
   ],
   "source": [
    "a / pi"
   ]
  },
  {
   "cell_type": "code",
   "execution_count": 47,
   "id": "53f665fc",
   "metadata": {},
   "outputs": [],
   "source": [
    "a = 5 \n",
    "b = 4"
   ]
  },
  {
   "cell_type": "code",
   "execution_count": 48,
   "id": "925acbbd",
   "metadata": {},
   "outputs": [],
   "source": [
    "sonuc = a + b "
   ]
  },
  {
   "cell_type": "code",
   "execution_count": 49,
   "id": "78ffbcc7",
   "metadata": {},
   "outputs": [
    {
     "data": {
      "text/plain": [
       "int"
      ]
     },
     "execution_count": 49,
     "metadata": {},
     "output_type": "execute_result"
    }
   ],
   "source": [
    "type(sonuc)"
   ]
  },
  {
   "cell_type": "code",
   "execution_count": 50,
   "id": "e17ca4e9",
   "metadata": {},
   "outputs": [],
   "source": [
    "sonuc = a * b"
   ]
  },
  {
   "cell_type": "code",
   "execution_count": 51,
   "id": "5e0b08e9",
   "metadata": {},
   "outputs": [
    {
     "data": {
      "text/plain": [
       "int"
      ]
     },
     "execution_count": 51,
     "metadata": {},
     "output_type": "execute_result"
    }
   ],
   "source": [
    "type(sonuc)"
   ]
  },
  {
   "cell_type": "markdown",
   "id": "132ec347",
   "metadata": {},
   "source": [
    "## Matematiksel İşlemler"
   ]
  },
  {
   "cell_type": "code",
   "execution_count": 2,
   "id": "5ae8b684",
   "metadata": {},
   "outputs": [],
   "source": [
    "x = 5\n",
    "y = 3"
   ]
  },
  {
   "cell_type": "code",
   "execution_count": 53,
   "id": "949f99e3",
   "metadata": {},
   "outputs": [
    {
     "data": {
      "text/plain": [
       "150"
      ]
     },
     "execution_count": 53,
     "metadata": {},
     "output_type": "execute_result"
    }
   ],
   "source": [
    "x * y * 10 "
   ]
  },
  {
   "cell_type": "code",
   "execution_count": 54,
   "id": "e3eee7d3",
   "metadata": {},
   "outputs": [
    {
     "data": {
      "text/plain": [
       "625"
      ]
     },
     "execution_count": 54,
     "metadata": {},
     "output_type": "execute_result"
    }
   ],
   "source": [
    "x * x * x * x "
   ]
  },
  {
   "cell_type": "code",
   "execution_count": 6,
   "id": "69a352df",
   "metadata": {},
   "outputs": [
    {
     "data": {
      "text/plain": [
       "625"
      ]
     },
     "execution_count": 6,
     "metadata": {},
     "output_type": "execute_result"
    }
   ],
   "source": [
    "x ** 4"
   ]
  },
  {
   "cell_type": "code",
   "execution_count": 61,
   "id": "ed2c7544",
   "metadata": {},
   "outputs": [
    {
     "data": {
      "text/plain": [
       "0"
      ]
     },
     "execution_count": 61,
     "metadata": {},
     "output_type": "execute_result"
    }
   ],
   "source": [
    "#Remainder - Kalanını Bulmak\n",
    "10 % 2"
   ]
  },
  {
   "cell_type": "code",
   "execution_count": 59,
   "id": "dc601dc6",
   "metadata": {},
   "outputs": [
    {
     "data": {
      "text/plain": [
       "1"
      ]
     },
     "execution_count": 59,
     "metadata": {},
     "output_type": "execute_result"
    }
   ],
   "source": [
    "11%2"
   ]
  },
  {
   "cell_type": "code",
   "execution_count": 63,
   "id": "ebce9858",
   "metadata": {},
   "outputs": [
    {
     "data": {
      "text/plain": [
       "2"
      ]
     },
     "execution_count": 63,
     "metadata": {},
     "output_type": "execute_result"
    }
   ],
   "source": [
    "11 % 3 "
   ]
  },
  {
   "cell_type": "code",
   "execution_count": 64,
   "id": "85ae5d23",
   "metadata": {},
   "outputs": [],
   "source": [
    "kullanicininYasi = 10"
   ]
  },
  {
   "cell_type": "code",
   "execution_count": 65,
   "id": "a51b317f",
   "metadata": {},
   "outputs": [
    {
     "data": {
      "text/plain": [
       "16.666666666666668"
      ]
     },
     "execution_count": 65,
     "metadata": {},
     "output_type": "execute_result"
    }
   ],
   "source": [
    "kullanicininYasi * 5 / 3 "
   ]
  },
  {
   "cell_type": "code",
   "execution_count": 67,
   "id": "6320a6c4",
   "metadata": {},
   "outputs": [
    {
     "name": "stdout",
     "output_type": "stream",
     "text": [
      "Yaşınızı Giriniz: 40\n"
     ]
    }
   ],
   "source": [
    "kullanicininYasi = input(\"Yaşınızı Giriniz: \")"
   ]
  },
  {
   "cell_type": "code",
   "execution_count": 68,
   "id": "595dac9a",
   "metadata": {},
   "outputs": [
    {
     "data": {
      "text/plain": [
       "'40'"
      ]
     },
     "execution_count": 68,
     "metadata": {},
     "output_type": "execute_result"
    }
   ],
   "source": [
    "kullanicininYasi"
   ]
  },
  {
   "cell_type": "code",
   "execution_count": 69,
   "id": "987daf6a",
   "metadata": {},
   "outputs": [
    {
     "data": {
      "text/plain": [
       "str"
      ]
     },
     "execution_count": 69,
     "metadata": {},
     "output_type": "execute_result"
    }
   ],
   "source": [
    "type(kullanicininYasi)"
   ]
  },
  {
   "cell_type": "code",
   "execution_count": 70,
   "id": "6c48bea5",
   "metadata": {},
   "outputs": [
    {
     "data": {
      "text/plain": [
       "'4040404040'"
      ]
     },
     "execution_count": 70,
     "metadata": {},
     "output_type": "execute_result"
    }
   ],
   "source": [
    "kullanicininYasi * 5 "
   ]
  },
  {
   "cell_type": "markdown",
   "id": "191c2535",
   "metadata": {},
   "source": [
    "# String"
   ]
  },
  {
   "cell_type": "code",
   "execution_count": 71,
   "id": "29b42426",
   "metadata": {},
   "outputs": [
    {
     "data": {
      "text/plain": [
       "'merhaba dünya'"
      ]
     },
     "execution_count": 71,
     "metadata": {},
     "output_type": "execute_result"
    }
   ],
   "source": [
    "\"merhaba dünya\""
   ]
  },
  {
   "cell_type": "code",
   "execution_count": 72,
   "id": "ff4ad798",
   "metadata": {},
   "outputs": [],
   "source": [
    "x = \"merhaba dünya\""
   ]
  },
  {
   "cell_type": "code",
   "execution_count": 73,
   "id": "8766ef0f",
   "metadata": {},
   "outputs": [
    {
     "data": {
      "text/plain": [
       "str"
      ]
     },
     "execution_count": 73,
     "metadata": {},
     "output_type": "execute_result"
    }
   ],
   "source": [
    "type(x)"
   ]
  },
  {
   "cell_type": "code",
   "execution_count": 74,
   "id": "a922737c",
   "metadata": {},
   "outputs": [],
   "source": [
    "y = 'yeni string'"
   ]
  },
  {
   "cell_type": "code",
   "execution_count": 75,
   "id": "4fc5f74c",
   "metadata": {},
   "outputs": [
    {
     "data": {
      "text/plain": [
       "str"
      ]
     },
     "execution_count": 75,
     "metadata": {},
     "output_type": "execute_result"
    }
   ],
   "source": [
    "type(y)"
   ]
  },
  {
   "cell_type": "code",
   "execution_count": 76,
   "id": "e2e34408",
   "metadata": {},
   "outputs": [],
   "source": [
    "a = 5"
   ]
  },
  {
   "cell_type": "code",
   "execution_count": 77,
   "id": "c36c770f",
   "metadata": {},
   "outputs": [
    {
     "data": {
      "text/plain": [
       "'Yeni string'"
      ]
     },
     "execution_count": 77,
     "metadata": {},
     "output_type": "execute_result"
    }
   ],
   "source": [
    "y.capitalize()"
   ]
  },
  {
   "cell_type": "code",
   "execution_count": 78,
   "id": "839b13bf",
   "metadata": {},
   "outputs": [
    {
     "data": {
      "text/plain": [
       "['yeni', 'string']"
      ]
     },
     "execution_count": 78,
     "metadata": {},
     "output_type": "execute_result"
    }
   ],
   "source": [
    "y.split()"
   ]
  },
  {
   "cell_type": "code",
   "execution_count": 79,
   "id": "dfb182c5",
   "metadata": {},
   "outputs": [],
   "source": [
    "benimString = \"Ali Emre Kısaboylu\""
   ]
  },
  {
   "cell_type": "code",
   "execution_count": 80,
   "id": "17857005",
   "metadata": {},
   "outputs": [
    {
     "data": {
      "text/plain": [
       "'Ali Emre Kısaboyluyeni string'"
      ]
     },
     "execution_count": 80,
     "metadata": {},
     "output_type": "execute_result"
    }
   ],
   "source": [
    "benimString + y "
   ]
  },
  {
   "cell_type": "code",
   "execution_count": 81,
   "id": "4ebe89ec",
   "metadata": {},
   "outputs": [],
   "source": [
    "k = \"Kısaboylu\""
   ]
  },
  {
   "cell_type": "code",
   "execution_count": 82,
   "id": "ab58d1d0",
   "metadata": {},
   "outputs": [
    {
     "data": {
      "text/plain": [
       "9"
      ]
     },
     "execution_count": 82,
     "metadata": {},
     "output_type": "execute_result"
    }
   ],
   "source": [
    "len(k)"
   ]
  },
  {
   "cell_type": "code",
   "execution_count": 83,
   "id": "b4400883",
   "metadata": {},
   "outputs": [
    {
     "name": "stdout",
     "output_type": "stream",
     "text": [
      "merhaba \n",
      "python\n"
     ]
    }
   ],
   "source": [
    "print(\"merhaba \\npython\")"
   ]
  },
  {
   "cell_type": "code",
   "execution_count": 84,
   "id": "44bbdebe",
   "metadata": {},
   "outputs": [],
   "source": [
    "isimString = \"Ali Emre Kısaboylu\""
   ]
  },
  {
   "cell_type": "code",
   "execution_count": 85,
   "id": "4a04e416",
   "metadata": {},
   "outputs": [
    {
     "data": {
      "text/plain": [
       "'Ali Emre Kısaboylu'"
      ]
     },
     "execution_count": 85,
     "metadata": {},
     "output_type": "execute_result"
    }
   ],
   "source": [
    "isimString"
   ]
  },
  {
   "cell_type": "markdown",
   "id": "a6da9ff5",
   "metadata": {},
   "source": [
    "# Index"
   ]
  },
  {
   "cell_type": "code",
   "execution_count": 86,
   "id": "794b29a2",
   "metadata": {},
   "outputs": [
    {
     "data": {
      "text/plain": [
       "'A'"
      ]
     },
     "execution_count": 86,
     "metadata": {},
     "output_type": "execute_result"
    }
   ],
   "source": [
    "isimString[0]"
   ]
  },
  {
   "cell_type": "code",
   "execution_count": 87,
   "id": "05f3629f",
   "metadata": {},
   "outputs": [
    {
     "data": {
      "text/plain": [
       "'e'"
      ]
     },
     "execution_count": 87,
     "metadata": {},
     "output_type": "execute_result"
    }
   ],
   "source": [
    "isimString[7]"
   ]
  },
  {
   "cell_type": "code",
   "execution_count": 88,
   "id": "8b2ade14",
   "metadata": {},
   "outputs": [
    {
     "data": {
      "text/plain": [
       "'u'"
      ]
     },
     "execution_count": 88,
     "metadata": {},
     "output_type": "execute_result"
    }
   ],
   "source": [
    "isimString[-1]"
   ]
  },
  {
   "cell_type": "code",
   "execution_count": 89,
   "id": "a5c3a29c",
   "metadata": {},
   "outputs": [
    {
     "data": {
      "text/plain": [
       "'Au'"
      ]
     },
     "execution_count": 89,
     "metadata": {},
     "output_type": "execute_result"
    }
   ],
   "source": [
    "isimString[0] + isimString[-1]"
   ]
  },
  {
   "cell_type": "code",
   "execution_count": 90,
   "id": "22f7785c",
   "metadata": {},
   "outputs": [],
   "source": [
    "yeniString = \"0123456789\""
   ]
  },
  {
   "cell_type": "code",
   "execution_count": 91,
   "id": "b2dbd8bf",
   "metadata": {},
   "outputs": [
    {
     "data": {
      "text/plain": [
       "'23456789'"
      ]
     },
     "execution_count": 91,
     "metadata": {},
     "output_type": "execute_result"
    }
   ],
   "source": [
    "yeniString[2:]"
   ]
  },
  {
   "cell_type": "code",
   "execution_count": 92,
   "id": "22eab0c6",
   "metadata": {},
   "outputs": [],
   "source": [
    "harfString = \"abcdefgh\""
   ]
  },
  {
   "cell_type": "code",
   "execution_count": 93,
   "id": "fe57c551",
   "metadata": {},
   "outputs": [
    {
     "data": {
      "text/plain": [
       "'defgh'"
      ]
     },
     "execution_count": 93,
     "metadata": {},
     "output_type": "execute_result"
    }
   ],
   "source": [
    "harfString[3:]"
   ]
  },
  {
   "cell_type": "code",
   "execution_count": 94,
   "id": "102f0f47",
   "metadata": {},
   "outputs": [
    {
     "data": {
      "text/plain": [
       "'abc'"
      ]
     },
     "execution_count": 94,
     "metadata": {},
     "output_type": "execute_result"
    }
   ],
   "source": [
    "harfString[:3]"
   ]
  },
  {
   "cell_type": "markdown",
   "id": "0bab0237",
   "metadata": {},
   "source": [
    "## Slicing"
   ]
  },
  {
   "cell_type": "code",
   "execution_count": 2,
   "id": "870f2e24",
   "metadata": {},
   "outputs": [],
   "source": [
    "gelenVeri = \"AhmetinYasi65\""
   ]
  },
  {
   "cell_type": "code",
   "execution_count": 101,
   "id": "828ddaa2",
   "metadata": {},
   "outputs": [
    {
     "data": {
      "text/plain": [
       "'65'"
      ]
     },
     "execution_count": 101,
     "metadata": {},
     "output_type": "execute_result"
    }
   ],
   "source": [
    "gelenVeri[-2:]"
   ]
  },
  {
   "cell_type": "code",
   "execution_count": 102,
   "id": "80d33809",
   "metadata": {},
   "outputs": [],
   "source": [
    "#Step Size"
   ]
  },
  {
   "cell_type": "code",
   "execution_count": 103,
   "id": "12380774",
   "metadata": {},
   "outputs": [
    {
     "data": {
      "text/plain": [
       "'htY'"
      ]
     },
     "execution_count": 103,
     "metadata": {},
     "output_type": "execute_result"
    }
   ],
   "source": [
    "gelenVeri[1:10:3]"
   ]
  },
  {
   "cell_type": "code",
   "execution_count": 5,
   "id": "049ca420",
   "metadata": {},
   "outputs": [
    {
     "data": {
      "text/plain": [
       "'56isaYnitemhA'"
      ]
     },
     "execution_count": 5,
     "metadata": {},
     "output_type": "execute_result"
    }
   ],
   "source": [
    "gelenVeri[::-1]"
   ]
  },
  {
   "cell_type": "code",
   "execution_count": 105,
   "id": "dc472165",
   "metadata": {},
   "outputs": [],
   "source": [
    "benimIsmim = \"ali\""
   ]
  },
  {
   "cell_type": "code",
   "execution_count": 106,
   "id": "7f8dc213",
   "metadata": {},
   "outputs": [
    {
     "data": {
      "text/plain": [
       "'Ali'"
      ]
     },
     "execution_count": 106,
     "metadata": {},
     "output_type": "execute_result"
    }
   ],
   "source": [
    "benimIsmim.capitalize()"
   ]
  },
  {
   "cell_type": "code",
   "execution_count": 107,
   "id": "18f345cf",
   "metadata": {},
   "outputs": [
    {
     "data": {
      "text/plain": [
       "'ali'"
      ]
     },
     "execution_count": 107,
     "metadata": {},
     "output_type": "execute_result"
    }
   ],
   "source": [
    "benimIsmim"
   ]
  },
  {
   "cell_type": "code",
   "execution_count": 108,
   "id": "ba57dfca",
   "metadata": {},
   "outputs": [],
   "source": [
    "benimYeniIsmim = benimIsmim.capitalize()"
   ]
  },
  {
   "cell_type": "code",
   "execution_count": 109,
   "id": "f3af0a4a",
   "metadata": {},
   "outputs": [
    {
     "data": {
      "text/plain": [
       "'Ali'"
      ]
     },
     "execution_count": 109,
     "metadata": {},
     "output_type": "execute_result"
    }
   ],
   "source": [
    "benimYeniIsmim"
   ]
  },
  {
   "cell_type": "code",
   "execution_count": 110,
   "id": "b25118e3",
   "metadata": {},
   "outputs": [
    {
     "data": {
      "text/plain": [
       "'ali'"
      ]
     },
     "execution_count": 110,
     "metadata": {},
     "output_type": "execute_result"
    }
   ],
   "source": [
    "benimIsmim"
   ]
  },
  {
   "cell_type": "code",
   "execution_count": 111,
   "id": "da6154aa",
   "metadata": {},
   "outputs": [],
   "source": [
    "benimTamIsmim = \"Ali Emre Kısaboylu\""
   ]
  },
  {
   "cell_type": "code",
   "execution_count": 112,
   "id": "58eeb003",
   "metadata": {},
   "outputs": [
    {
     "data": {
      "text/plain": [
       "['Ali', 'Emre', 'Kısaboylu']"
      ]
     },
     "execution_count": 112,
     "metadata": {},
     "output_type": "execute_result"
    }
   ],
   "source": [
    "benimTamIsmim.split()"
   ]
  },
  {
   "cell_type": "code",
   "execution_count": 113,
   "id": "72e52dfc",
   "metadata": {},
   "outputs": [
    {
     "data": {
      "text/plain": [
       "'ALI EMRE KISABOYLU'"
      ]
     },
     "execution_count": 113,
     "metadata": {},
     "output_type": "execute_result"
    }
   ],
   "source": [
    "benimTamIsmim.upper()"
   ]
  },
  {
   "cell_type": "code",
   "execution_count": 114,
   "id": "b2b74627",
   "metadata": {},
   "outputs": [
    {
     "data": {
      "text/plain": [
       "'alialialialialialialialialiali'"
      ]
     },
     "execution_count": 114,
     "metadata": {},
     "output_type": "execute_result"
    }
   ],
   "source": [
    "benimIsmim *10"
   ]
  },
  {
   "cell_type": "code",
   "execution_count": 116,
   "id": "1d4d7ac0",
   "metadata": {},
   "outputs": [
    {
     "data": {
      "text/plain": [
       "'alidir'"
      ]
     },
     "execution_count": 116,
     "metadata": {},
     "output_type": "execute_result"
    }
   ],
   "source": [
    "benimIsmim + \"dir\""
   ]
  },
  {
   "cell_type": "code",
   "execution_count": null,
   "id": "c8711342",
   "metadata": {},
   "outputs": [],
   "source": []
  }
 ],
 "metadata": {
  "kernelspec": {
   "display_name": "Python 3 (ipykernel)",
   "language": "python",
   "name": "python3"
  },
  "language_info": {
   "codemirror_mode": {
    "name": "ipython",
    "version": 3
   },
   "file_extension": ".py",
   "mimetype": "text/x-python",
   "name": "python",
   "nbconvert_exporter": "python",
   "pygments_lexer": "ipython3",
   "version": "3.9.7"
  }
 },
 "nbformat": 4,
 "nbformat_minor": 5
}
